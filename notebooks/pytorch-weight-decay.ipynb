{
 "cells": [
  {
   "cell_type": "code",
   "execution_count": 1,
   "metadata": {},
   "outputs": [],
   "source": [
    "import time, numpy as np, matplotlib.pyplot as plt\n",
    "# PyTorch\n",
    "import torch\n",
    "from torch.nn.utils import parameters_to_vector, vector_to_parameters"
   ]
  },
  {
   "cell_type": "code",
   "execution_count": 2,
   "metadata": {},
   "outputs": [],
   "source": [
    "import sys\n",
    "sys.path.append('../src/')\n",
    "\n",
    "%load_ext autoreload\n",
    "%autoreload 2\n",
    "# Importing our custom module(s)\n",
    "import models\n",
    "\n",
    "model = models.Net()"
   ]
  },
  {
   "cell_type": "code",
   "execution_count": 3,
   "metadata": {},
   "outputs": [
    {
     "data": {
      "image/png": "[encoded data removed]",
      "text/plain": [
       "<Figure size 400x300 with 1 Axes>"
      ]
     },
     "metadata": {},
     "output_type": "display_data"
    }
   ],
   "source": [
    "def featurize(x):\n",
    "    return torch.cat([x[:, None], x[:, None]**2], dim=1)\n",
    "\n",
    "x = torch.cat([torch.linspace(start=-10, end=-6, steps=20, dtype=torch.float),\n",
    "               torch.linspace(start= -2, end= 2, steps=20, dtype=torch.float),\n",
    "               torch.linspace(start=  6, end=10, steps=20, dtype=torch.float)])\n",
    "f = featurize(x)\n",
    "y = model(f).detach() + torch.randn(60,1)*0.5\n",
    "\n",
    "ncols, nrows = 1, 1\n",
    "fig, axs = plt.subplots(ncols=ncols, nrows=nrows, figsize=(4*ncols, 3*nrows))\n",
    "axs.scatter(x, y, color='#D62728')\n",
    "fig.tight_layout()\n",
    "plt.show()"
   ]
  },
  {
   "cell_type": "code",
   "execution_count": 4,
   "metadata": {},
   "outputs": [],
   "source": [
    "def mse_loss(y_hat, y):\n",
    "    return torch.mean((y - y_hat) ** 2)\n",
    "\n",
    "def l2_penalty(params):\n",
    "    return (1/2) * torch.sum(params ** 2)"
   ]
  },
  {
   "cell_type": "code",
   "execution_count": 5,
   "metadata": {},
   "outputs": [],
   "source": [
    "weight_decay = 1e-2\n",
    "model = models.Net()\n",
    "init = parameters_to_vector(model.parameters()).detach().numpy()\n",
    "optimizer = torch.optim.SGD(model.parameters(), lr=1e-2)"
   ]
  },
  {
   "cell_type": "code",
   "execution_count": 6,
   "metadata": {},
   "outputs": [
    {
     "name": "stdout",
     "output_type": "stream",
     "text": [
      "Epoch: 0, NLL: 0.3811188042163849\n",
      "Epoch: 1, NLL: 0.30546119809150696\n",
      "Epoch: 2, NLL: 0.2955181300640106\n",
      "Epoch: 3, NLL: 0.2890429198741913\n",
      "Epoch: 4, NLL: 0.287745863199234\n",
      "Elapsed time: 0.9011452198028564\n"
     ]
    }
   ],
   "source": [
    "start = time.time()\n",
    "from_scratch_grads = []\n",
    "for epoch in range(1_000):\n",
    "    optimizer.zero_grad()\n",
    "    y_hat = model(f)\n",
    "    nll = mse_loss(y_hat, y)\n",
    "    loss = nll + weight_decay * l2_penalty(parameters_to_vector(model.parameters()))\n",
    "    loss.backward()\n",
    "    optimizer.step()\n",
    "    if epoch < 5:\n",
    "        print(f'Epoch: {epoch}, NLL: {nll.item()}')\n",
    "        grads = torch.cat([param.grad.view(-1) for param in model.parameters()])\n",
    "        from_scratch_grads.append(grads.detach().numpy())\n",
    "\n",
    "linspace = torch.linspace(start=-10, end=10, steps=100, dtype=torch.float)\n",
    "from_scratch_preds = model(featurize(linspace))\n",
    "end = time.time()\n",
    "print(f'Elapsed time: {end - start}')"
   ]
  },
  {
   "cell_type": "code",
   "execution_count": 7,
   "metadata": {},
   "outputs": [],
   "source": [
    "model = models.Net()\n",
    "vector_to_parameters(torch.tensor(init), model.parameters())\n",
    "optimizer = torch.optim.SGD(model.parameters(), lr=1e-2, weight_decay=weight_decay)"
   ]
  },
  {
   "cell_type": "code",
   "execution_count": 8,
   "metadata": {},
   "outputs": [
    {
     "name": "stdout",
     "output_type": "stream",
     "text": [
      "Epoch: 0, NLL: 0.3811188042163849\n",
      "Epoch: 1, NLL: 0.30546119809150696\n",
      "Epoch: 2, NLL: 0.2955181300640106\n",
      "Epoch: 3, NLL: 0.2890429198741913\n",
      "Epoch: 4, NLL: 0.287745863199234\n",
      "Elapsed time: 0.6379377841949463\n"
     ]
    }
   ],
   "source": [
    "start = time.time()\n",
    "pytorch_grads = []\n",
    "for epoch in range(1_000):\n",
    "    optimizer.zero_grad()\n",
    "    y_hat = model(f)\n",
    "    nll = mse_loss(y_hat, y) \n",
    "    nll.backward()\n",
    "    optimizer.step()\n",
    "    if epoch < 5:\n",
    "        print(f'Epoch: {epoch}, NLL: {nll.item()}')\n",
    "        grads = torch.cat([param.grad.view(-1) for param in model.parameters()])\n",
    "        pytorch_grads.append(grads.detach().numpy())\n",
    "\n",
    "pytorch_preds = model(featurize(linspace))\n",
    "end = time.time()\n",
    "print(f'Elapsed time: {end - start}')"
   ]
  },
  {
   "cell_type": "code",
   "execution_count": 9,
   "metadata": {},
   "outputs": [
    {
     "name": "stdout",
     "output_type": "stream",
     "text": [
      "0.03527531\n",
      "0.035233155\n",
      "0.03523781\n",
      "0.035236932\n",
      "0.035243087\n"
     ]
    }
   ],
   "source": [
    "for from_scratch_grad, pytorch_grad in zip(from_scratch_grads, pytorch_grads):\n",
    "    print(np.linalg.norm(from_scratch_grad - pytorch_grad))"
   ]
  },
  {
   "cell_type": "code",
   "execution_count": 10,
   "metadata": {},
   "outputs": [],
   "source": [
    "model = models.Net()\n",
    "vector_to_parameters(torch.tensor(init), model.parameters())\n",
    "optimizer = torch.optim.SGD(model.parameters(), lr=1e-2)\n",
    "prior = torch.distributions.normal.Normal(0, np.sqrt(1/(len(y)*weight_decay)))"
   ]
  },
  {
   "cell_type": "code",
   "execution_count": 11,
   "metadata": {},
   "outputs": [
    {
     "name": "stdout",
     "output_type": "stream",
     "text": [
      "Epoch: 0, NLL: 0.3811188042163849\n",
      "Epoch: 1, NLL: 0.30546119809150696\n",
      "Epoch: 2, NLL: 0.2955181300640106\n",
      "Epoch: 3, NLL: 0.2890429198741913\n",
      "Epoch: 4, NLL: 0.287745863199234\n",
      "Elapsed time: 1.003232717514038\n"
     ]
    }
   ],
   "source": [
    "start = time.time()\n",
    "bayesian_grads = []\n",
    "for epoch in range(1_000):\n",
    "    optimizer.zero_grad()\n",
    "    y_hat = model(f)\n",
    "    nll = mse_loss(y_hat, y) \n",
    "    loss = nll - (1/len(y)) * torch.sum(prior.log_prob(parameters_to_vector(model.parameters())))\n",
    "    loss.backward()\n",
    "    optimizer.step()\n",
    "    if epoch < 5:\n",
    "        print(f'Epoch: {epoch}, NLL: {nll.item()}')\n",
    "        grads = torch.cat([param.grad.view(-1) for param in model.parameters()])\n",
    "        bayesian_grads.append(grads.detach().numpy())\n",
    "\n",
    "bayesian_preds = model(featurize(linspace))\n",
    "end = time.time()\n",
    "print(f'Elapsed time: {end - start}')"
   ]
  },
  {
   "cell_type": "code",
   "execution_count": 12,
   "metadata": {},
   "outputs": [
    {
     "name": "stdout",
     "output_type": "stream",
     "text": [
      "0.035275325\n",
      "0.035233162\n",
      "0.03523782\n",
      "0.03523694\n",
      "0.035243094\n"
     ]
    }
   ],
   "source": [
    "for bayesian_grad, pytorch_grad in zip(bayesian_grads, pytorch_grads):\n",
    "    print(np.linalg.norm(bayesian_grad - pytorch_grad))"
   ]
  },
  {
   "cell_type": "code",
   "execution_count": 13,
   "metadata": {},
   "outputs": [
    {
     "data": {
      "image/png": "[encoded data removed]",
      "text/plain": [
       "<Figure size 1200x300 with 3 Axes>"
      ]
     },
     "metadata": {},
     "output_type": "display_data"
    }
   ],
   "source": [
    "ncols, nrows = 3, 1\n",
    "fig, axs = plt.subplots(ncols=ncols, nrows=nrows, figsize=(4*ncols, 3*nrows))\n",
    "axs[0].scatter(x, y, color='#D62728')\n",
    "axs[0].plot(linspace.data.numpy(), from_scratch_preds.data.numpy(), color='#1F77B4', lw=5)\n",
    "axs[1].scatter(x, y, color='#D62728')\n",
    "axs[1].plot(linspace.data.numpy(), pytorch_preds.data.numpy(), color='#1F77B4', lw=5)\n",
    "axs[2].scatter(x, y, color='#D62728')\n",
    "axs[2].plot(linspace.data.numpy(), bayesian_preds.data.numpy(), color='#1F77B4', lw=5)\n",
    "fig.tight_layout()\n",
    "plt.show()"
   ]
  },
  {
   "cell_type": "code",
   "execution_count": null,
   "metadata": {},
   "outputs": [],
   "source": []
  }
 ],
 "metadata": {
  "kernelspec": {
   "display_name": "bdl-transfer-learning",
   "language": "python",
   "name": "bdl-transfer-learning"
  },
  "language_info": {
   "codemirror_mode": {
    "name": "ipython",
    "version": 3
   },
   "file_extension": ".py",
   "mimetype": "text/x-python",
   "name": "python",
   "nbconvert_exporter": "python",
   "pygments_lexer": "ipython3",
   "version": "3.8.0"
  }
 },
 "nbformat": 4,
 "nbformat_minor": 2
}
